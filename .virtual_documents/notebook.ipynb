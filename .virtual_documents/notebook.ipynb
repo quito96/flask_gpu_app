get_ipython().getoutput("git clone https://github.com/quito96/flask_gpu_app")


import os
os.chdir("flask_gpu_app")


get_ipython().getoutput("pip install -r requirements.txt")


get_ipython().getoutput("ngrok authtoken 2Lu2Bwte3CrDcpN5tQX2lUpNVto_2qW68BLm3wkh45o67RWfu")


get_ipython().getoutput("python main.py")



